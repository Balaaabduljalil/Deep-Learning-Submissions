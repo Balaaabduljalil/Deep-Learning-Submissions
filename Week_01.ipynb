{
 "cells": [
  {
   "cell_type": "markdown",
   "metadata": {},
   "source": [
    "## Q1. Create a Random Tensor with Shape (7,7)."
   ]
  },
  {
   "cell_type": "code",
   "execution_count": 1,
   "metadata": {},
   "outputs": [],
   "source": [
    "import torch"
   ]
  },
  {
   "cell_type": "code",
   "execution_count": 2,
   "metadata": {},
   "outputs": [
    {
     "data": {
      "text/plain": [
       "(tensor([[0.8274, 0.5708, 0.5912, 0.2658, 0.5473, 0.5693, 0.5636],\n",
       "         [0.2086, 0.1145, 0.8089, 0.1493, 0.6265, 0.4624, 0.3313],\n",
       "         [0.3604, 0.3015, 0.3420, 0.3939, 0.1413, 0.2017, 0.4463],\n",
       "         [0.4560, 0.2287, 0.7860, 0.5355, 0.9276, 0.3370, 0.2292],\n",
       "         [0.8139, 0.4003, 0.9577, 0.0497, 0.5832, 0.0805, 0.8507],\n",
       "         [0.5604, 0.0734, 0.3259, 0.8819, 0.0267, 0.5194, 0.3942],\n",
       "         [0.0278, 0.7676, 0.0860, 0.3112, 0.1926, 0.1613, 0.2776]]),\n",
       " torch.Size([7, 7]))"
      ]
     },
     "execution_count": 2,
     "metadata": {},
     "output_type": "execute_result"
    }
   ],
   "source": [
    "tensor1 = torch.rand(size=(7,7))\n",
    "tensor1,tensor1.shape"
   ]
  },
  {
   "cell_type": "markdown",
   "metadata": {},
   "source": [
    "## Q2. Perform a matrix multiplication on the tensor from 2 with another random tensor with shape (1,7)."
   ]
  },
  {
   "cell_type": "code",
   "execution_count": 3,
   "metadata": {},
   "outputs": [
    {
     "data": {
      "text/plain": [
       "(tensor([[1.4309],\n",
       "         [0.7453],\n",
       "         [0.7673],\n",
       "         [0.8835],\n",
       "         [1.0189],\n",
       "         [0.9274],\n",
       "         [0.9602]]),\n",
       " torch.Size([7, 1]))"
      ]
     },
     "execution_count": 3,
     "metadata": {},
     "output_type": "execute_result"
    }
   ],
   "source": [
    "tensor2 = torch.rand(size=(1,7))\n",
    "tensor3 = torch.mm(tensor1,tensor2.T)\n",
    "tensor3,tensor3.shape"
   ]
  },
  {
   "cell_type": "markdown",
   "metadata": {},
   "source": [
    "## Q3. Set the Random seed to 0 and do 2 & 3 over again."
   ]
  },
  {
   "cell_type": "code",
   "execution_count": 4,
   "metadata": {},
   "outputs": [
    {
     "data": {
      "text/plain": [
       "(tensor([[1.8542],\n",
       "         [1.9611],\n",
       "         [2.2884],\n",
       "         [3.0481],\n",
       "         [1.7067],\n",
       "         [2.5290],\n",
       "         [1.7989]]),\n",
       " torch.Size([7, 1]))"
      ]
     },
     "execution_count": 4,
     "metadata": {},
     "output_type": "execute_result"
    }
   ],
   "source": [
    "torch.manual_seed(0)\n",
    "tensor1 = torch.rand(size=(7,7))\n",
    "tensor2 = torch.rand(size=(1,7))\n",
    "\n",
    "tensor3 = torch.mm(tensor1,tensor2.T)\n",
    "tensor3,tensor3.shape"
   ]
  },
  {
   "cell_type": "markdown",
   "metadata": {},
   "source": [
    "## Q4. Create two random tensors of shape (2,3) and send them both to the GPU."
   ]
  },
  {
   "cell_type": "code",
   "execution_count": 5,
   "metadata": {},
   "outputs": [
    {
     "name": "stdout",
     "output_type": "stream",
     "text": [
      "The device is: cpu\n"
     ]
    },
    {
     "data": {
      "text/plain": [
       "(tensor([[0.0290, 0.4019, 0.2598],\n",
       "         [0.3666, 0.0583, 0.7006]]),\n",
       " tensor([[0.0518, 0.4681, 0.6738],\n",
       "         [0.3315, 0.7837, 0.5631]]))"
      ]
     },
     "execution_count": 5,
     "metadata": {},
     "output_type": "execute_result"
    }
   ],
   "source": [
    "torch.manual_seed(1234)\n",
    "device = \"cuda\" if torch.cuda.is_available() else \"cpu\"\n",
    "print(f\"The device is: {device}\")\n",
    "first_tensor = torch.rand(size=(2,3)).to(device)\n",
    "second_tensor = torch.rand(size=(2,3)).to(device)\n",
    "first_tensor,second_tensor"
   ]
  },
  {
   "cell_type": "markdown",
   "metadata": {},
   "source": [
    "## Q5. Perform a multiplication in the tensors you created in Q4 above. "
   ]
  },
  {
   "cell_type": "code",
   "execution_count": 6,
   "metadata": {},
   "outputs": [
    {
     "data": {
      "text/plain": [
       "(tensor([[0.3647, 0.4709],\n",
       "         [0.5184, 0.5617]]),\n",
       " torch.Size([2, 2]))"
      ]
     },
     "execution_count": 6,
     "metadata": {},
     "output_type": "execute_result"
    }
   ],
   "source": [
    "third_tensor = torch.mm(first_tensor,second_tensor.T)\n",
    "third_tensor,third_tensor.shape"
   ]
  },
  {
   "cell_type": "markdown",
   "metadata": {},
   "source": [
    "## Q6. Find the Maximum and Minimum values of the output of Q5."
   ]
  },
  {
   "cell_type": "code",
   "execution_count": 7,
   "metadata": {},
   "outputs": [
    {
     "data": {
      "text/plain": [
       "tensor(3)"
      ]
     },
     "execution_count": 7,
     "metadata": {},
     "output_type": "execute_result"
    }
   ],
   "source": [
    "maximum_value = torch.argmax(third_tensor)\n",
    "maximum_value"
   ]
  },
  {
   "cell_type": "code",
   "execution_count": 8,
   "metadata": {},
   "outputs": [
    {
     "data": {
      "text/plain": [
       "tensor(0)"
      ]
     },
     "execution_count": 8,
     "metadata": {},
     "output_type": "execute_result"
    }
   ],
   "source": [
    "minimum_value = torch.argmin(third_tensor)\n",
    "minimum_value"
   ]
  },
  {
   "cell_type": "markdown",
   "metadata": {},
   "source": [
    "## Q7. Make a random tensor with shape (1,1,1,10) and then create a new tensor with all the 1 dimensions removed to be left with a tensor of shape (10)."
   ]
  },
  {
   "cell_type": "code",
   "execution_count": 10,
   "metadata": {},
   "outputs": [
    {
     "name": "stdout",
     "output_type": "stream",
     "text": [
      "tensor([[[[0.5349, 0.1988, 0.6592, 0.6569, 0.2328, 0.4251, 0.2071, 0.6297,\n",
      "           0.3653, 0.8513]]]]) torch.Size([1, 1, 1, 10])\n",
      "tensor([0.5349, 0.1988, 0.6592, 0.6569, 0.2328, 0.4251, 0.2071, 0.6297, 0.3653,\n",
      "        0.8513]) torch.Size([10])\n"
     ]
    }
   ],
   "source": [
    "torch.manual_seed(7)\n",
    "fourth_tensor = torch.rand(1,1,1,10)\n",
    "# Remove a single dimension\n",
    "fifth_tensor = fourth_tensor.squeeze()\n",
    "\n",
    "print(fourth_tensor,fourth_tensor.shape)\n",
    "print(fifth_tensor,fifth_tensor.shape)\n"
   ]
  }
 ],
 "metadata": {
  "kernelspec": {
   "display_name": "base",
   "language": "python",
   "name": "python3"
  },
  "language_info": {
   "codemirror_mode": {
    "name": "ipython",
    "version": 3
   },
   "file_extension": ".py",
   "mimetype": "text/x-python",
   "name": "python",
   "nbconvert_exporter": "python",
   "pygments_lexer": "ipython3",
   "version": "3.11.5"
  }
 },
 "nbformat": 4,
 "nbformat_minor": 2
}
